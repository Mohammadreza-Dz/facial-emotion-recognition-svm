{
 "cells": [
  {
   "cell_type": "code",
   "execution_count": 7,
   "metadata": {},
   "outputs": [
    {
     "name": "stdout",
     "output_type": "stream",
     "text": [
      "<class 'numpy.int64'>\n"
     ]
    }
   ],
   "source": [
    "import numpy as np\n",
    "import pandas as pd\n",
    "import cv2\n",
    "import matplotlib.pyplot as plt\n",
    "\n",
    "\n",
    "data = pd.read_csv('fer2013.csv')\n",
    "data.tail()\n",
    "\n",
    "pixels = []\n",
    "\n",
    "# for pixel in data['pixels']:\n",
    "#     pixels.append(np.fromstring(pixel, dtype=int, sep=\" \").reshape((48,48)))\n",
    "\n",
    "\n",
    "\n",
    "print(type(data['emotion'][0]))\n",
    "# plt.imshow(pixels[100])\n",
    "\n",
    "# img = np.fromstring(data['pixels'][0], dtype=int, sep=\" \").reshape((48, 48))\n",
    "\n",
    "\n",
    "# plt.imshow(img)"
   ]
  },
  {
   "cell_type": "code",
   "execution_count": null,
   "metadata": {},
   "outputs": [],
   "source": []
  }
 ],
 "metadata": {
  "kernelspec": {
   "display_name": "Python 3",
   "language": "python",
   "name": "python3"
  },
  "language_info": {
   "codemirror_mode": {
    "name": "ipython",
    "version": 3
   },
   "file_extension": ".py",
   "mimetype": "text/x-python",
   "name": "python",
   "nbconvert_exporter": "python",
   "pygments_lexer": "ipython3",
   "version": "3.7.1"
  }
 },
 "nbformat": 4,
 "nbformat_minor": 2
}
